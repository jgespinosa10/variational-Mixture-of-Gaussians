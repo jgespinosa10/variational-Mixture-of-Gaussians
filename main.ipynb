{
 "cells": [
  {
   "cell_type": "markdown",
   "metadata": {},
   "source": [
    "# Implementing Variational Mixture of Gaussians\n",
    "\n",
    "Following Chapter 10 of Pattern Recognition and Machine Learning by Christopher M.\n",
    "Bishop.\n",
    "\n",
    "Libraries:"
   ]
  },
  {
   "cell_type": "code",
   "execution_count": 1,
   "metadata": {},
   "outputs": [],
   "source": [
    "import numpy as np\n",
    "import matplotlib.pyplot as plt\n",
    "import math\n",
    "import matplotlib\n",
    "import time\n",
    "from scipy.special import digamma, logsumexp, gamma\n",
    "from scipy.stats import multivariate_normal, uniform\n",
    "from tqdm import tqdm\n",
    "from time import sleep\n",
    "from sklearn.datasets import make_spd_matrix\n",
    "\n",
    "%matplotlib inline\n",
    "from IPython.display import clear_output"
   ]
  },
  {
   "cell_type": "markdown",
   "metadata": {},
   "source": [
    "## Sampling Data"
   ]
  },
  {
   "cell_type": "code",
   "execution_count": 2,
   "metadata": {},
   "outputs": [],
   "source": [
    "def gen_data(N, K, D):\n",
    "    Nk = np.random.randint(0,N-1, K-1)\n",
    "    Nk = list(np.sort(Nk))\n",
    "    Nk.append(N)\n",
    "    Nk.insert(0,0)\n",
    "    for i in range(len(Nk) - 1,0, -1):\n",
    "        Nk[i] = Nk[i] - Nk[i-1]\n",
    "    Nk = np.array(Nk[1:])\n",
    "    \n",
    "    data = []\n",
    "    medias = []\n",
    "    covs = []\n",
    "    for i in Nk:\n",
    "        media = uniform.rvs(0, 15, D)\n",
    "        cov = make_spd_matrix(D)\n",
    "        data.append(multivariate_normal.rvs(mean = media, cov = cov, size = i))\n",
    "        medias.append(media)\n",
    "        covs.append(cov)\n",
    "    \n",
    "    print()\n",
    "    print(Nk)\n",
    "    print()\n",
    "    print(np.array(medias))\n",
    "    print()\n",
    "    print(np.array(covs))\n",
    "\n",
    "    data = np.concatenate((*data,))\n",
    "    return data"
   ]
  },
  {
   "cell_type": "markdown",
   "metadata": {},
   "source": [
    "## Functions\n",
    "\n",
    "Implementing the functions stablished by the book:"
   ]
  },
  {
   "cell_type": "markdown",
   "metadata": {},
   "source": [
    "\\# 1:\n",
    "\n",
    "$$ln(\\tilde{\\pi}_k) \\equiv E[ln(\\pi_k)] = \\psi(\\alpha_k)-\\psi(\\hat{\\alpha})$$"
   ]
  },
  {
   "cell_type": "code",
   "execution_count": 3,
   "metadata": {},
   "outputs": [],
   "source": [
    "def func1(aks):\n",
    "    return digamma(aks) - digamma(np.sum(aks))"
   ]
  },
  {
   "cell_type": "markdown",
   "metadata": {},
   "source": [
    "\\# 2:\n",
    "\n",
    "$$ln(\\tilde{\\Lambda}_k) \\equiv E[ln(\\Lambda_k)] = \\sum^D_{i=1}\\psi(\\frac{\\upsilon_k + 1 - i}{2}) + D\\ln 2 + \\ln |W_k|$$"
   ]
  },
  {
   "cell_type": "code",
   "execution_count": 4,
   "metadata": {},
   "outputs": [],
   "source": [
    "def func2(v, D, Wk):\n",
    "    temp1 = np.log([np.linalg.det(i) for i in Wk])\n",
    "    temp2 = D*np.log(2)\n",
    "    temp3 = np.sum(digamma(np.array([v+1-i for i in range(D)])/2), axis = 0)\n",
    "    return temp1 + temp2 + temp3"
   ]
  },
  {
   "cell_type": "markdown",
   "metadata": {},
   "source": [
    "\\# 3:\n",
    "\n",
    "$$ E_{\\mu_k, \\Lambda_k}[(x_n-\\mu_k)^T\\Lambda_k(x_n - \\mu_k)] = D\\beta^{-1}_k + \\upsilon_k(x_n - m_k)^TW_k(x_n - m_k)$$"
   ]
  },
  {
   "cell_type": "code",
   "execution_count": 5,
   "metadata": {},
   "outputs": [],
   "source": [
    "def func3(D, bk, vk, xn, mk, Wk):\n",
    "    primera = D/bk\n",
    "    temp = xn.reshape(xn.shape[0], 1, xn.shape[1]) - mk\n",
    "    temp1 = np.einsum('jkl,ijk->ijl', Wk, temp, optimize = \"optimal\")\n",
    "    segunda = np.einsum('j, ijk,ijk->ij', vk, temp, temp1,optimize = \"optimal\")\n",
    "    return primera + segunda"
   ]
  },
  {
   "cell_type": "markdown",
   "metadata": {},
   "source": [
    "\\# 4:\n",
    "\n",
    "$$ \\ln \\rho_{nk} =  E[ln(\\pi_k)] + \\frac{1}{2}E[ln(\\Lambda_k)] - \\frac{D}{2} \\ln (2\\pi) - \\frac{1}{2} E_{\\mu_k, \\Lambda_k}[(x_n-\\mu_k)^T\\Lambda_k(x_n - \\mu_k)]$$"
   ]
  },
  {
   "cell_type": "code",
   "execution_count": 6,
   "metadata": {},
   "outputs": [],
   "source": [
    "def func4(Elnpi, Elnlam, D, Euklamk):\n",
    "    temp = Elnpi + Elnlam/2 - D*np.log(2*math.pi)/2\n",
    "    return temp.reshape((1, temp.shape[0])) - Euklamk/2"
   ]
  },
  {
   "cell_type": "markdown",
   "metadata": {},
   "source": [
    "\\# 5:\n",
    "\n",
    "$$ r_{nk} = \\frac{\\rho_{nk}}{\\sum^K_{j=1} \\rho_{nj}} $$"
   ]
  },
  {
   "cell_type": "code",
   "execution_count": 7,
   "metadata": {},
   "outputs": [],
   "source": [
    "def func5(lnpnk):\n",
    "    temp = logsumexp(lnpnk, axis = 1)\n",
    "    return np.exp(lnpnk - temp.reshape(temp.shape[0], 1))"
   ]
  },
  {
   "cell_type": "markdown",
   "metadata": {},
   "source": [
    "\\# 6\n",
    "\n",
    "$$ N_{k} = \\sum^N_{n=1} r_{nk} $$\n",
    "\n",
    "We are not going to implement this function because of simplicity"
   ]
  },
  {
   "cell_type": "markdown",
   "metadata": {},
   "source": [
    "\\# 7:\n",
    "\n",
    "$$ \\bar{x}_{k} = \\frac{1}{N_k}\\sum^N_{n=1} r_{nk}x_n $$"
   ]
  },
  {
   "cell_type": "code",
   "execution_count": 8,
   "metadata": {},
   "outputs": [],
   "source": [
    "def func7(N, r, x):\n",
    "    return np.einsum('ij,ik,j->jk',r,x,1/N,optimize = \"optimal\")"
   ]
  },
  {
   "cell_type": "markdown",
   "metadata": {},
   "source": [
    "\\# 8:\n",
    "\n",
    "$$ S_{k} = \\frac{1}{N_k}\\sum^N_{n=1} r_{nk}(x_n - \\bar{x}_k)(x_n - \\bar{x}_k)^T $$"
   ]
  },
  {
   "cell_type": "code",
   "execution_count": 9,
   "metadata": {},
   "outputs": [],
   "source": [
    "def func8(Nk, r, x, xk):\n",
    "    temp = x.reshape((x.shape[0], 1, x.shape[1])) - xk\n",
    "    return np.einsum('ij,ijk,ijl,j->jkl', r, temp, temp, 1/Nk,optimize = \"optimal\")"
   ]
  },
  {
   "cell_type": "markdown",
   "metadata": {},
   "source": [
    "\\# 9\n",
    "\n",
    "$$ \\beta_{k} = \\beta_0 + N_k $$\n",
    "\n",
    "Not implemented because of simplicity"
   ]
  },
  {
   "cell_type": "markdown",
   "metadata": {},
   "source": [
    "\\# 10\n",
    "\n",
    "$$ m_{k} = \\frac{1}{\\beta_k}(\\beta_0 m_0 + N_k \\bar{x}_k) $$"
   ]
  },
  {
   "cell_type": "code",
   "execution_count": 10,
   "metadata": {},
   "outputs": [],
   "source": [
    "def func10(bk, b0, m0, Nk, xbark):\n",
    "    return np.einsum('ij,i->ij', b0*m0 + np.einsum('i,ij->ij', Nk, xbark), 1/bk,optimize = \"optimal\")"
   ]
  },
  {
   "cell_type": "markdown",
   "metadata": {},
   "source": [
    "\\# 11:\n",
    "\n",
    "$$ W^{-1}_{k} = W^{-1}_0 + N_kS_k + \\frac{\\beta_0N_k}{\\beta_0 + N_k}(\\bar{x}_k - m_0)(\\bar{x}_k - m_0)^T $$"
   ]
  },
  {
   "cell_type": "code",
   "execution_count": 11,
   "metadata": {},
   "outputs": [],
   "source": [
    "def func11(W0inv, Nk, Sk, b0, barxk, m0):\n",
    "    temp1 = (barxk - m0)\n",
    "    temp1 = np.einsum('ik, il, i ->ikl', temp1, temp1, (b0*Nk)/(b0 + Nk),optimize = \"optimal\")\n",
    "    temp2 = np.einsum('i, ijk -> ijk', Nk, Sk,optimize = \"optimal\")\n",
    "    return W0inv + temp2 + temp1"
   ]
  },
  {
   "cell_type": "markdown",
   "metadata": {},
   "source": [
    "\\# 12\n",
    "\n",
    "\n",
    "$$ \\nu_k = \\nu_0 + N_k$$"
   ]
  },
  {
   "cell_type": "markdown",
   "metadata": {},
   "source": [
    "\\# 13\n",
    "\n",
    "$$ \\alpha_k = \\alpha_0 + N_k $$"
   ]
  },
  {
   "cell_type": "markdown",
   "metadata": {},
   "source": [
    "\\# 14\n",
    "\n",
    "$$ E[\\pi_k] = \\frac{\\alpha_k + N_k}{K\\alpha_0 + N} $$"
   ]
  },
  {
   "cell_type": "code",
   "execution_count": 12,
   "metadata": {},
   "outputs": [],
   "source": [
    "def func14(ak, Nk, a0, N):\n",
    "    return (ak + Nk)/(len(ak)*a0 + N)"
   ]
  },
  {
   "cell_type": "markdown",
   "metadata": {},
   "source": [
    "## Calculate Lower Bound\n",
    "\n",
    "$$ E[\\ln p(X|Z,\\mu, \\Lambda)] = \\frac{1}{2}\\sum^K_{k=1}N_k\\{\\ln \\tilde{\\Lambda}_k - D\\beta^{-1}_k - \\upsilon_kTR(S_kW_k) - \\upsilon_k(\\bar{x}_k-m_k)^TW_k(\\bar{x}_k-m_k) - D\\ln(2\\pi)\\} $$"
   ]
  },
  {
   "cell_type": "code",
   "execution_count": 13,
   "metadata": {},
   "outputs": [],
   "source": [
    "def func15(Nk, lnlam, D, bk, vk, Sk, Wk, xbark, mk):\n",
    "    temp = np.multiply(vk, np.trace(np.einsum(\"ijk,ijk->ijk\", Sk, Wk), axis1 = 1, axis2 = 2))\n",
    "    temp1 = np.einsum(\"i, ij, ijk, ij->i\", vk, xbark - mk, Wk, xbark - mk)\n",
    "    return np.dot(Nk, lnlam - D/bk - temp - temp1 - D*np.log(2*np.pi))/2"
   ]
  },
  {
   "cell_type": "markdown",
   "metadata": {},
   "source": [
    "$$ E[\\ln p(Z|\\pi)] = \\sum^N_{n=1}\\sum^K_{k=1}r_{nk}\\ln\\tilde{\\pi}_k $$"
   ]
  },
  {
   "cell_type": "code",
   "execution_count": 14,
   "metadata": {},
   "outputs": [],
   "source": [
    "def func16(r, lnpik):\n",
    "    return np.einsum(\"ij, j->\", r, lnpik)"
   ]
  },
  {
   "cell_type": "markdown",
   "metadata": {},
   "source": [
    "$$ C(\\alpha) = \\frac{\\Gamma(\\hat{\\alpha})}{\\Gamma(\\alpha_1)\\cdots\\Gamma(\\alpha_k)} $$"
   ]
  },
  {
   "cell_type": "code",
   "execution_count": 15,
   "metadata": {},
   "outputs": [],
   "source": [
    "def func17(ak):\n",
    "    temp = gamma(np.sum(ak))/np.prod(gamma(ak))\n",
    "    if temp > 0:\n",
    "        return temp\n",
    "    else:\n",
    "        return 1"
   ]
  },
  {
   "cell_type": "markdown",
   "metadata": {},
   "source": [
    "$$ E[\\ln p(\\pi)] = \\ln C(\\alpha_0)+(\\alpha_0-1)\\sum^K_{k=1}\\ln\\tilde{\\pi}_k $$"
   ]
  },
  {
   "cell_type": "code",
   "execution_count": 16,
   "metadata": {},
   "outputs": [],
   "source": [
    "def func18(a0, lnpik):\n",
    "    return np.log(func17(np.array([a0 for _ in range(len(lnpik))]))) + (a0 - 1)*np.sum(lnpik)"
   ]
  },
  {
   "cell_type": "markdown",
   "metadata": {},
   "source": [
    "$$ B(W, \\upsilon)  = |W|^{-\\upsilon/2}(2^{\\upsilon D/2}\\pi^{D(D-1)/4}\\prod^D_{i=1}\\Gamma(\\frac{\\upsilon+1-i}{2}))$$"
   ]
  },
  {
   "cell_type": "code",
   "execution_count": 17,
   "metadata": {},
   "outputs": [],
   "source": [
    "def func19(W0, v0, D):\n",
    "    temp = np.linalg.det(W0)**(-v0/2)\n",
    "    temp *= (2**(v0*D/2))*(np.pi**(D*(D-1)/4))\n",
    "    temp *= np.prod(np.array([(v0+1-(i+1))/2 for i in range(D)]))\n",
    "    return temp"
   ]
  },
  {
   "cell_type": "markdown",
   "metadata": {},
   "source": [
    "$$ E[\\ln p(\\mu, \\Lambda)] = \\frac{1}{2}\\sum^K_{k=1}\\{D\\ln (\\beta_0/2\\pi) + \\ln\\tilde{\\Lambda}_k - \\frac{D\\beta_0}{\\beta_k} - \\beta_0\\upsilon_k(m_k-m_0)^TW_k(m_k-m_0)\\} + K \\ln B(W_0, \\upsilon_0) + \\frac{(\\upsilon_0 - D - 1)}{2} \\sum^K_{k=1}\\ln \\tilde{\\Lambda}_k - \\frac{1}{2} \\upsilon_k Tr(W_0^{-1}W_k)$$"
   ]
  },
  {
   "cell_type": "code",
   "execution_count": 18,
   "metadata": {},
   "outputs": [],
   "source": [
    "def func20(D, b0, bk, lnlam, v0, vk, m0, mk, W0, Wk):\n",
    "    temp = D*np.log(b0/(2*np.pi)) + lnlam - D*b0/bk\n",
    "    temp1 = b0*np.einsum(\"i, ij, ijk, ij -> i\", vk, mk-m0, Wk, mk-m0)\n",
    "    primer = np.sum(temp + temp1)/2\n",
    "    segunda = len(bk)*np.log(func19(W0, v0, D))\n",
    "    temp = np.trace(np.einsum(\"jm, ijk->ijk\", np.linalg.inv(W0), Wk), axis1 = 1, axis2 = 2)\n",
    "    tercera = (v0 - D - 1)/2*np.sum(lnlam - np.multiply(vk, temp)/2)\n",
    "    return primer + segunda + tercera"
   ]
  },
  {
   "cell_type": "markdown",
   "metadata": {},
   "source": [
    "$$ E[\\ln q(Z)] = \\sum^N_{n=1}\\sum^K_{k=1}r_{nk}\\ln r_{nk} $$"
   ]
  },
  {
   "cell_type": "code",
   "execution_count": 19,
   "metadata": {},
   "outputs": [],
   "source": [
    "def func21(r):\n",
    "    temp = np.einsum(\"ij,ij->\", r, np.log(r))\n",
    "    if np.isnan(temp):\n",
    "        return 1\n",
    "    return temp"
   ]
  },
  {
   "cell_type": "markdown",
   "metadata": {},
   "source": [
    "$$ E[\\ln q(\\pi)] = \\sum^K_{k=1}(\\alpha_k-1)\\ln \\tilde{\\pi}_{k} + \\ln C(\\alpha) $$"
   ]
  },
  {
   "cell_type": "code",
   "execution_count": 20,
   "metadata": {},
   "outputs": [],
   "source": [
    "def func22(ak, pik):\n",
    "    return np.dot(ak-1, pik)+ np.log(func17(ak))"
   ]
  },
  {
   "cell_type": "markdown",
   "metadata": {},
   "source": [
    "$$ H[\\Lambda] = -\\ln B(W,\\upsilon) - \\frac{(\\upsilon-D-1)}{2}E[ln[\\Lambda]]+\\frac{\\upsilon D}{2} $$"
   ]
  },
  {
   "cell_type": "code",
   "execution_count": 21,
   "metadata": {},
   "outputs": [],
   "source": [
    "def func23(Wk, vk, D, lnlam):\n",
    "    temp =  np.array([func19(Wk[i], vk[i], D) for i in range(len(Wk))])\n",
    "    temp1 = (vk-D-1)/2*lnlam - vk*D/2\n",
    "    return -temp-temp1"
   ]
  },
  {
   "cell_type": "markdown",
   "metadata": {},
   "source": [
    "$$ E[\\ln q(\\mu, \\Lambda)] = \\sum^K_{k=1}\\left\\{\\frac{1}{2}\\ln \\tilde{\\Lambda}_k + \\frac{D}{2}\\ln \\left(\\frac{\\beta_k}{2\\pi}\\right) - \\frac{D}{2} - H[q(\\Lambda_k)]\\right\\} $$"
   ]
  },
  {
   "cell_type": "code",
   "execution_count": 22,
   "metadata": {},
   "outputs": [],
   "source": [
    "def func24(lnlam, D, bk, Wk, vk):\n",
    "    return np.sum(lnlam/2 + (D/2)*np.log(bk/(2*np.pi))-D/2-func23(Wk, vk, D, lnlam))"
   ]
  },
  {
   "cell_type": "markdown",
   "metadata": {},
   "source": [
    "$$ L = E[\\ln p(X|Z,\\mu,\\Lambda)] + E[\\ln p(Z|\\pi)] + E[\\ln p(\\pi)] + E[\\ln p(\\mu,\\Lambda)] -E[\\ln q(Z)] - E[\\ln q(\\pi)]-E[\\ln q(\\mu,\\Lambda)\\ $$"
   ]
  },
  {
   "cell_type": "code",
   "execution_count": 23,
   "metadata": {},
   "outputs": [],
   "source": [
    "def func25(pX, pZ, ppi, pmulam, qZ, qpi, qmulam):\n",
    "    return pX + pZ + ppi + pmulam - qZ - qpi - qmulam"
   ]
  },
  {
   "cell_type": "markdown",
   "metadata": {},
   "source": [
    "## Helpers"
   ]
  },
  {
   "cell_type": "code",
   "execution_count": 24,
   "metadata": {},
   "outputs": [],
   "source": [
    "## From:\n",
    "## https://github.com/jamesmcinerney/vbmm.git\n",
    "## This function returns the \"drawing\" of an elipse for\n",
    "## a mean and covariance of an specific normal distibution\n",
    "from matplotlib.patches import Ellipse\n",
    "\n",
    "def create_cov_ellipse(cov, pos, nstd=2, **kwargs):\n",
    "    \"\"\"\n",
    "    Plots an `nstd` sigma error ellipse based on the specified covariance\n",
    "    matrix (`cov`). Additional keyword arguments are passed on to the \n",
    "    ellipse patch artist.\n",
    "    Parameters\n",
    "    ----------\n",
    "        cov : The 2x2 covariance matrix to base the ellipse on\n",
    "        pos : The location of the center of the ellipse. Expects a 2-element\n",
    "            sequence of [x0, y0].\n",
    "        nstd : The radius of the ellipse in numbers of standard deviations.\n",
    "            Defaults to 2 standard deviations.\n",
    "        ax : The axis that the ellipse will be plotted on. Defaults to the \n",
    "            current axis.\n",
    "        Additional keyword arguments are pass on to the ellipse patch.\n",
    "    Returns\n",
    "    -------\n",
    "        A matplotlib ellipse artist\n",
    "    \"\"\"\n",
    "    def eigsorted(cov):\n",
    "        vals, vecs = np.linalg.eigh(cov)\n",
    "        order = vals.argsort()[::-1]\n",
    "        return vals[order], vecs[:,order]\n",
    "\n",
    "    vals, vecs = eigsorted(cov)\n",
    "    theta = np.degrees(np.arctan2(*vecs[:,0][::-1]))\n",
    "\n",
    "    # Width and height are \"full\" widths, not radius\n",
    "    width, height = 2 * nstd * np.sqrt(vals)\n",
    "    ellip = Ellipse(xy=pos, width=width, height=height, angle=theta, **kwargs)\n",
    "\n",
    "    return ellip"
   ]
  },
  {
   "cell_type": "markdown",
   "metadata": {},
   "source": [
    "# Main algorithm"
   ]
  },
  {
   "cell_type": "code",
   "execution_count": 25,
   "metadata": {
    "scrolled": false
   },
   "outputs": [],
   "source": [
    "def VGMM(data, K = 20, VERBOSE = True):\n",
    "    # N: number of data\n",
    "    # dim: dimension\n",
    "    N, dim = data.shape\n",
    "    #initial parameters\n",
    "    alpha0 = 0.1\n",
    "    beta0 = (1e-20)*1.\n",
    "    v0 = dim + 1\n",
    "    m0 = np.zeros(dim)\n",
    "    W0 = np.identity(dim)\n",
    "    r = np.array([np.random.dirichlet(np.ones(K)) for _ in range(N)])\n",
    "    \n",
    "    # Stablish the limits for 2D visualization\n",
    "    # Only visualize 2D\n",
    "    if VERBOSE:\n",
    "        dif1 = (max(data[:,0]) - min(data[:,0])) * 0.1\n",
    "        dif2 = (max(data[:,1]) - min(data[:,1])) * 0.1\n",
    "        min1 = min(data[:,0]) - dif1\n",
    "        min2 = min(data[:,1]) - dif2\n",
    "        max1 = max(data[:,0]) + dif1\n",
    "        max2 = max(data[:,1]) + dif2\n",
    "        \n",
    "        \n",
    "    Nk = 0\n",
    "    ## Start algorithm\n",
    "    ite = 0\n",
    "    while True:\n",
    "        # Count number of iterations\n",
    "        ite += 1\n",
    "        # Obtain Nk for comparing\n",
    "        Nanterior = Nk\n",
    "        \n",
    "        #Calculate Nk\n",
    "        Nk = r.sum(axis = 0) ## 6\n",
    "        \n",
    "        # When a Gaussian have's less than 10 data\n",
    "        # it is eliminated. The data goes into\n",
    "        # another gaussian\n",
    "        if len(np.where(Nk < 3)[0]):\n",
    "            r = np.delete(r, np.where(Nk < 3)[0], 1)\n",
    "            Nk = np.delete(Nk, np.where(Nk < 3)[0])\n",
    "        # If the change is less than\n",
    "        # 0.005, algorithm stops\n",
    "        elif sum(np.absolute(Nk-Nanterior)) < 0.005:\n",
    "            # When the algorithm finishes, it prints\n",
    "            # the quantity of data per gaussian, means\n",
    "            # and covariance\n",
    "            print(\"finish\")\n",
    "            print(\"iterations:\",ite)\n",
    "            print(\"Gaussians:\", len(Nk))\n",
    "            print()\n",
    "            print(Nk)\n",
    "            print()\n",
    "            print(mk)\n",
    "            print()\n",
    "            print(Sk)\n",
    "            break\n",
    "        \n",
    "        ## M step\n",
    "        xbark = func7(Nk, r, data) ## 7\n",
    "        Sk = func8(Nk, r, data, xbark)## 8\n",
    "        betak = beta0 + Nk ## 9\n",
    "        mk = func10(betak, beta0, m0, Nk, xbark) ## 10\n",
    "        Wk = np.linalg.inv(func11(W0, Nk, Sk, beta0, xbark, m0)) ## 11\n",
    "        vk = v0 + Nk + 1 ## 12\n",
    "        alphak = alpha0 + Nk ## 13\n",
    "        \n",
    "        ## E step\n",
    "        Pi = func1(alphak)## 1\n",
    "        lnlam = func2(vk, dim, Wk) ## 2\n",
    "        Egrande = func3(dim, betak, vk, data, mk, Wk) ## 3\n",
    "        lnpnk = func4(Pi, lnlam, dim, Egrande) ## 4\n",
    "        r = func5(lnpnk) ## 5\n",
    "        \n",
    "        ## Calculate ELBO for gaussians with two or three dimensions\n",
    "        if ite > 1 and (dim == 2 or dim == 3):\n",
    "            ElnpX = func15(Nk, lnlam, dim, betak, vk, Sk, Wk, xbark, mk) ## 10.71\n",
    "            ElnpZ = func16(r,Pi)\n",
    "            Elnppi = func18(alpha0, Pi)\n",
    "            Elnpmulam = func20(dim, beta0, betak, lnlam, v0, vk, m0, mk, W0, Wk)\n",
    "            ElnqZ = func21(r)\n",
    "            Elnqpi = func22(alphak, Pi)\n",
    "            Elnqmulam = func24(lnlam, dim, betak, Wk, vk)\n",
    "            L = func25(ElnpX, ElnpZ, Elnppi, Elnpmulam, ElnqZ, Elnqpi, Elnqmulam)\n",
    "            print(L)\n",
    "        \n",
    "        # Visualization:\n",
    "        # warning: has a lot of overhead if there is a lot of data\n",
    "        if VERBOSE:\n",
    "            fig, ax = plt.subplots(figsize = (10,9))\n",
    "\n",
    "            ax.set_xlim(min1, max1)\n",
    "            ax.set_ylim(min2, max2)\n",
    "            \n",
    "            clear_output(wait=True)\n",
    "            plt.scatter(data[:,0],data[:,1])\n",
    "            plt.scatter(mk[:,0],mk[:,1],color='r')\n",
    "            \n",
    "            for k in range(len(Nk)):\n",
    "                elipse = create_cov_ellipse(Sk[k], mk[k,:],color='r',alpha=0.3)\n",
    "                ax.add_artist(elipse)\n",
    "            plt.show()"
   ]
  },
  {
   "cell_type": "code",
   "execution_count": 26,
   "metadata": {
    "scrolled": true
   },
   "outputs": [
    {
     "name": "stdout",
     "output_type": "stream",
     "text": [
      "Cantidad de gaussianas 4\n",
      "N 9238\n",
      "Dimensiones 10\n",
      "\n",
      "[3119 1776 3285 1058]\n",
      "\n",
      "[[11.9643877   5.51647801]\n",
      " [ 1.91548316 12.12659445]\n",
      " [10.64484599  8.1304502 ]\n",
      " [ 3.85769223  6.31868691]]\n",
      "\n",
      "[[[ 2.79546884 -0.28675499]\n",
      "  [-0.28675499  0.85838392]]\n",
      "\n",
      " [[ 2.61289819  0.28831818]\n",
      "  [ 0.28831818  0.68565713]]\n",
      "\n",
      " [[ 1.86373088  0.83134373]\n",
      "  [ 0.83134373  0.74876227]]\n",
      "\n",
      " [[ 2.56139594 -0.38971183]\n",
      "  [-0.38971183  0.60268014]]]\n"
     ]
    }
   ],
   "source": [
    "K = np.random.randint(1, 10)\n",
    "N = np.random.randint(100, 20000)\n",
    "D = np.random.randint(1, 15)\n",
    "print(\"Cantidad de gaussianas\", K)\n",
    "print(\"N\", N)\n",
    "print(\"Dimensiones\", D)\n",
    "data = gen_data(N, K, 2)"
   ]
  },
  {
   "cell_type": "code",
   "execution_count": 27,
   "metadata": {},
   "outputs": [
    {
     "data": {
      "image/png": "[encoded data removed]",
      "text/plain": [
       "<Figure size 720x648 with 1 Axes>"
      ]
     },
     "metadata": {
      "needs_background": "light"
     },
     "output_type": "display_data"
    },
    {
     "name": "stdout",
     "output_type": "stream",
     "text": [
      "finish\n",
      "iterations: 2681\n",
      "Gaussians: 5\n",
      "\n",
      "[1776.00590632  189.91288379 3202.08588909 3016.24738888 1053.74793191]\n",
      "\n",
      "[[ 1.80844811 12.08674034]\n",
      " [11.89899369  6.21847358]\n",
      " [10.63936754  8.15438565]\n",
      " [11.92433549  5.49660814]\n",
      " [ 3.87227111  6.28895252]]\n",
      "\n",
      "[[[ 2.62577581  0.28714824]\n",
      "  [ 0.28714824  0.62761131]]\n",
      "\n",
      " [[ 0.49859674 -0.58368273]\n",
      "  [-0.58368273  2.11030568]]\n",
      "\n",
      " [[ 1.85743876  0.80600371]\n",
      "  [ 0.80600371  0.70987506]]\n",
      "\n",
      " [[ 2.97804314 -0.32456995]\n",
      "  [-0.32456995  0.79876586]]\n",
      "\n",
      " [[ 2.52514442 -0.34636423]\n",
      "  [-0.34636423  0.58617484]]]\n"
     ]
    }
   ],
   "source": [
    "VGMM(data, K=10, VERBOSE = True)"
   ]
  },
  {
   "cell_type": "markdown",
   "metadata": {},
   "source": [
    "## Bibliography:\n",
    "    - https://github.com/jamesmcinerney/vbmm.git"
   ]
  },
  {
   "cell_type": "code",
   "execution_count": null,
   "metadata": {},
   "outputs": [],
   "source": []
  }
 ],
 "metadata": {
  "kernelspec": {
   "display_name": "Python 3",
   "language": "python",
   "name": "python3"
  },
  "language_info": {
   "codemirror_mode": {
    "name": "ipython",
    "version": 3
   },
   "file_extension": ".py",
   "mimetype": "text/x-python",
   "name": "python",
   "nbconvert_exporter": "python",
   "pygments_lexer": "ipython3",
   "version": "3.6.8"
  }
 },
 "nbformat": 4,
 "nbformat_minor": 2
}
